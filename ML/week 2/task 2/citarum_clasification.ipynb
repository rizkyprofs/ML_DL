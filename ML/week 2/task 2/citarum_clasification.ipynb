{
  "nbformat": 4,
  "nbformat_minor": 0,
  "metadata": {
    "colab": {
      "provenance": [],
      "authorship_tag": "ABX9TyN1PEWMg8jOhAuo3YKucXNY",
      "include_colab_link": true
    },
    "kernelspec": {
      "name": "python3",
      "display_name": "Python 3"
    },
    "language_info": {
      "name": "python"
    }
  },
  "cells": [
    {
      "cell_type": "markdown",
      "metadata": {
        "id": "view-in-github",
        "colab_type": "text"
      },
      "source": [
        "<a href=\"https://colab.research.google.com/github/rizkyprofs/ML_DL/blob/main/citarum_clasification.ipynb\" target=\"_parent\"><img src=\"https://colab.research.google.com/assets/colab-badge.svg\" alt=\"Open In Colab\"/></a>"
      ]
    },
    {
      "cell_type": "code",
      "execution_count": 1,
      "metadata": {
        "colab": {
          "base_uri": "https://localhost:8080/",
          "height": 74
        },
        "id": "9xvMcFYU3tXx",
        "outputId": "e568def6-a813-422d-acd5-4d2c8f08e865"
      },
      "outputs": [
        {
          "output_type": "display_data",
          "data": {
            "text/plain": [
              "<IPython.core.display.HTML object>"
            ],
            "text/html": [
              "\n",
              "     <input type=\"file\" id=\"files-17f62bb7-2338-4514-ad2a-c731e48bd244\" name=\"files[]\" multiple disabled\n",
              "        style=\"border:none\" />\n",
              "     <output id=\"result-17f62bb7-2338-4514-ad2a-c731e48bd244\">\n",
              "      Upload widget is only available when the cell has been executed in the\n",
              "      current browser session. Please rerun this cell to enable.\n",
              "      </output>\n",
              "      <script>// Copyright 2017 Google LLC\n",
              "//\n",
              "// Licensed under the Apache License, Version 2.0 (the \"License\");\n",
              "// you may not use this file except in compliance with the License.\n",
              "// You may obtain a copy of the License at\n",
              "//\n",
              "//      http://www.apache.org/licenses/LICENSE-2.0\n",
              "//\n",
              "// Unless required by applicable law or agreed to in writing, software\n",
              "// distributed under the License is distributed on an \"AS IS\" BASIS,\n",
              "// WITHOUT WARRANTIES OR CONDITIONS OF ANY KIND, either express or implied.\n",
              "// See the License for the specific language governing permissions and\n",
              "// limitations under the License.\n",
              "\n",
              "/**\n",
              " * @fileoverview Helpers for google.colab Python module.\n",
              " */\n",
              "(function(scope) {\n",
              "function span(text, styleAttributes = {}) {\n",
              "  const element = document.createElement('span');\n",
              "  element.textContent = text;\n",
              "  for (const key of Object.keys(styleAttributes)) {\n",
              "    element.style[key] = styleAttributes[key];\n",
              "  }\n",
              "  return element;\n",
              "}\n",
              "\n",
              "// Max number of bytes which will be uploaded at a time.\n",
              "const MAX_PAYLOAD_SIZE = 100 * 1024;\n",
              "\n",
              "function _uploadFiles(inputId, outputId) {\n",
              "  const steps = uploadFilesStep(inputId, outputId);\n",
              "  const outputElement = document.getElementById(outputId);\n",
              "  // Cache steps on the outputElement to make it available for the next call\n",
              "  // to uploadFilesContinue from Python.\n",
              "  outputElement.steps = steps;\n",
              "\n",
              "  return _uploadFilesContinue(outputId);\n",
              "}\n",
              "\n",
              "// This is roughly an async generator (not supported in the browser yet),\n",
              "// where there are multiple asynchronous steps and the Python side is going\n",
              "// to poll for completion of each step.\n",
              "// This uses a Promise to block the python side on completion of each step,\n",
              "// then passes the result of the previous step as the input to the next step.\n",
              "function _uploadFilesContinue(outputId) {\n",
              "  const outputElement = document.getElementById(outputId);\n",
              "  const steps = outputElement.steps;\n",
              "\n",
              "  const next = steps.next(outputElement.lastPromiseValue);\n",
              "  return Promise.resolve(next.value.promise).then((value) => {\n",
              "    // Cache the last promise value to make it available to the next\n",
              "    // step of the generator.\n",
              "    outputElement.lastPromiseValue = value;\n",
              "    return next.value.response;\n",
              "  });\n",
              "}\n",
              "\n",
              "/**\n",
              " * Generator function which is called between each async step of the upload\n",
              " * process.\n",
              " * @param {string} inputId Element ID of the input file picker element.\n",
              " * @param {string} outputId Element ID of the output display.\n",
              " * @return {!Iterable<!Object>} Iterable of next steps.\n",
              " */\n",
              "function* uploadFilesStep(inputId, outputId) {\n",
              "  const inputElement = document.getElementById(inputId);\n",
              "  inputElement.disabled = false;\n",
              "\n",
              "  const outputElement = document.getElementById(outputId);\n",
              "  outputElement.innerHTML = '';\n",
              "\n",
              "  const pickedPromise = new Promise((resolve) => {\n",
              "    inputElement.addEventListener('change', (e) => {\n",
              "      resolve(e.target.files);\n",
              "    });\n",
              "  });\n",
              "\n",
              "  const cancel = document.createElement('button');\n",
              "  inputElement.parentElement.appendChild(cancel);\n",
              "  cancel.textContent = 'Cancel upload';\n",
              "  const cancelPromise = new Promise((resolve) => {\n",
              "    cancel.onclick = () => {\n",
              "      resolve(null);\n",
              "    };\n",
              "  });\n",
              "\n",
              "  // Wait for the user to pick the files.\n",
              "  const files = yield {\n",
              "    promise: Promise.race([pickedPromise, cancelPromise]),\n",
              "    response: {\n",
              "      action: 'starting',\n",
              "    }\n",
              "  };\n",
              "\n",
              "  cancel.remove();\n",
              "\n",
              "  // Disable the input element since further picks are not allowed.\n",
              "  inputElement.disabled = true;\n",
              "\n",
              "  if (!files) {\n",
              "    return {\n",
              "      response: {\n",
              "        action: 'complete',\n",
              "      }\n",
              "    };\n",
              "  }\n",
              "\n",
              "  for (const file of files) {\n",
              "    const li = document.createElement('li');\n",
              "    li.append(span(file.name, {fontWeight: 'bold'}));\n",
              "    li.append(span(\n",
              "        `(${file.type || 'n/a'}) - ${file.size} bytes, ` +\n",
              "        `last modified: ${\n",
              "            file.lastModifiedDate ? file.lastModifiedDate.toLocaleDateString() :\n",
              "                                    'n/a'} - `));\n",
              "    const percent = span('0% done');\n",
              "    li.appendChild(percent);\n",
              "\n",
              "    outputElement.appendChild(li);\n",
              "\n",
              "    const fileDataPromise = new Promise((resolve) => {\n",
              "      const reader = new FileReader();\n",
              "      reader.onload = (e) => {\n",
              "        resolve(e.target.result);\n",
              "      };\n",
              "      reader.readAsArrayBuffer(file);\n",
              "    });\n",
              "    // Wait for the data to be ready.\n",
              "    let fileData = yield {\n",
              "      promise: fileDataPromise,\n",
              "      response: {\n",
              "        action: 'continue',\n",
              "      }\n",
              "    };\n",
              "\n",
              "    // Use a chunked sending to avoid message size limits. See b/62115660.\n",
              "    let position = 0;\n",
              "    do {\n",
              "      const length = Math.min(fileData.byteLength - position, MAX_PAYLOAD_SIZE);\n",
              "      const chunk = new Uint8Array(fileData, position, length);\n",
              "      position += length;\n",
              "\n",
              "      const base64 = btoa(String.fromCharCode.apply(null, chunk));\n",
              "      yield {\n",
              "        response: {\n",
              "          action: 'append',\n",
              "          file: file.name,\n",
              "          data: base64,\n",
              "        },\n",
              "      };\n",
              "\n",
              "      let percentDone = fileData.byteLength === 0 ?\n",
              "          100 :\n",
              "          Math.round((position / fileData.byteLength) * 100);\n",
              "      percent.textContent = `${percentDone}% done`;\n",
              "\n",
              "    } while (position < fileData.byteLength);\n",
              "  }\n",
              "\n",
              "  // All done.\n",
              "  yield {\n",
              "    response: {\n",
              "      action: 'complete',\n",
              "    }\n",
              "  };\n",
              "}\n",
              "\n",
              "scope.google = scope.google || {};\n",
              "scope.google.colab = scope.google.colab || {};\n",
              "scope.google.colab._files = {\n",
              "  _uploadFiles,\n",
              "  _uploadFilesContinue,\n",
              "};\n",
              "})(self);\n",
              "</script> "
            ]
          },
          "metadata": {}
        },
        {
          "output_type": "stream",
          "name": "stdout",
          "text": [
            "Saving CitarumWater.csv to CitarumWater.csv\n"
          ]
        }
      ],
      "source": [
        "from google.colab import files\n",
        "uploaded = files.upload()"
      ]
    },
    {
      "cell_type": "code",
      "source": [
        "import numpy as np\n",
        "import matplotlib.pyplot as plt\n",
        "import pandas as pd\n",
        "import seaborn as sns\n",
        "from imblearn.over_sampling import SMOTE\n",
        "from sklearn.model_selection import train_test_split\n",
        "from sklearn.preprocessing import StandardScaler\n",
        "\n",
        "from sklearn.linear_model import LogisticRegression\n",
        "from sklearn.metrics import classification_report, confusion_matrix, accuracy_score, precision_score, f1_score, roc_auc_score, roc_curve, recall_score\n"
      ],
      "metadata": {
        "id": "8mpAcqT44B6v"
      },
      "execution_count": 2,
      "outputs": []
    },
    {
      "cell_type": "markdown",
      "source": [],
      "metadata": {
        "id": "sWpjaC4W4QAl"
      }
    },
    {
      "cell_type": "code",
      "source": [
        "dataset = pd.read_csv('CitarumWater.csv')\n",
        "print(dataset.head())"
      ],
      "metadata": {
        "colab": {
          "base_uri": "https://localhost:8080/"
        },
        "id": "_TJddGFE4KYy",
        "outputId": "e5d374d8-4570-4562-81fc-d3b4152d5fbd"
      },
      "execution_count": 3,
      "outputs": [
        {
          "output_type": "stream",
          "name": "stdout",
          "text": [
            "   No NamaSungai             TitikPantau       Waktu    pH     Temp   TSS  \\\n",
            "0   1    Citarum             Wangisagara  18/04/2018  7.57  25.55°C  11.0   \n",
            "1   2    Citarum                   Koyod  18/04/2018  7.69  25.55°C  13.0   \n",
            "2   3    Citarum   Setelah IPAL Cisirung  18/04/2018  7.39  25.55°C  15.0   \n",
            "3   4    Citarum                 Nanjung  18/04/2018  7.49  25.55°C  17.0   \n",
            "4   5    Citarum  Outlet Waduk Jatiluhur  18/04/2018  7.17  25.55°C   6.0   \n",
            "\n",
            "     DO   BOD    COD  Nitrat  FecalColiform  Fosfat O2    IP  Class  \n",
            "0  6.11  3.30   6.10    1.08        17000.0   0.043  -  5.12      3  \n",
            "1  6.20  5.31  12.50    1.85        28000.0   0.011  -  5.91      3  \n",
            "2  3.61  7.40  23.50    1.25        90000.0   0.230  -  7.76      3  \n",
            "3  3.17  8.13  27.50    1.21       300000.0   0.057  -  9.61      3  \n",
            "4  6.82  2.89   5.44    1.04         3000.0   0.110  -  2.44      2  \n"
          ]
        }
      ]
    },
    {
      "cell_type": "code",
      "source": [
        "#\n",
        "columns_to_drop = [\"No\", \"NamaSungai\", \"TitikPantau\", \"Waktu\", \"Temp\", \"O2\", \"Class\"]\n",
        "X = dataset.drop(columns=columns_to_drop)  # Features\n",
        "y = dataset[\"Class\"]   # Target\n",
        "\n",
        "#balancing imbalanced data\n",
        "smote = SMOTE()\n",
        "X_resampled, y_resampled = smote.fit_resample(X, y)\n",
        "\n",
        "#split dataset\n",
        "X_train, X_test, y_train, y_test = train_test_split(X_resampled, y_resampled, test_size=0.3)\n",
        ""
      ],
      "metadata": {
        "id": "9aEPIKEh4a6D"
      },
      "execution_count": 4,
      "outputs": []
    },
    {
      "cell_type": "code",
      "source": [
        "#scaling\n",
        "scaler = StandardScaler()\n",
        "X_train = scaler.fit_transform(X_train)\n",
        "X_test = scaler.transform(X_test)\n",
        "\n",
        "#training regresion model\n",
        "model = LogisticRegression().fit(X_train, y_train)\n",
        "\n",
        "#predict\n",
        "y_pred = model.predict(X_test)\n",
        "y_prob = model.predict_proba(X_test)\n",
        "\n"
      ],
      "metadata": {
        "id": "HepyzVdy4YMk"
      },
      "execution_count": 5,
      "outputs": []
    },
    {
      "cell_type": "code",
      "source": [
        "# Evaluation model\n",
        "from sklearn.metrics import classification_report, confusion_matrix, accuracy_score, precision_score, f1_score, roc_auc_score, roc_curve, recall_score\n",
        "plt.figure(figsize=(8, 6))\n",
        "sns.heatmap(confusion_matrix(y_test, y_pred), annot=True, fmt='d', cmap='Blues',\n",
        "            xticklabels=np.unique(y), yticklabels=np.unique(y))\n",
        "plt.ylabel('Actual')\n",
        "plt.xlabel('Predicted')\n",
        "plt.title('Confusion Matrix')\n",
        "plt.show()"
      ],
      "metadata": {
        "colab": {
          "base_uri": "https://localhost:8080/",
          "height": 564
        },
        "id": "fFPq44x_5H19",
        "outputId": "ac6a1220-6198-4a84-faa0-f33a0ce11d2a"
      },
      "execution_count": 8,
      "outputs": [
        {
          "output_type": "display_data",
          "data": {
            "text/plain": [
              "<Figure size 800x600 with 2 Axes>"
            ],
            "image/png": "[encoded data removed]"
          },
          "metadata": {}
        }
      ]
    },
    {
      "cell_type": "code",
      "source": [
        "#classification Report\n",
        "print(\"Classification Report:\")\n",
        "print(classification_report(y_test, y_pred))\n",
        "accuracy = accuracy_score(y_test, y_pred)\n",
        "precision = precision_score(y_test, y_pred, average='weighted')\n",
        "f1 = f1_score(y_test, y_pred, average='weighted')\n",
        "auc = roc_auc_score(y_test, y_prob, multi_class='ovr')\n",
        "recall = recall_score(y_test, y_pred, average='weighted')\n",
        "print('Accuracy : ',accuracy)\n",
        "print('Precision : ',precision)\n",
        "print('F1 Squared : ',f1)\n",
        "print('AUC : ',auc)\n",
        "print('Recall : ',recall)"
      ],
      "metadata": {
        "colab": {
          "base_uri": "https://localhost:8080/"
        },
        "id": "NtSXrgBE5muT",
        "outputId": "a3ed343a-0450-427c-9891-80789e3b989d"
      },
      "execution_count": 10,
      "outputs": [
        {
          "output_type": "stream",
          "name": "stdout",
          "text": [
            "Classification Report:\n",
            "              precision    recall  f1-score   support\n",
            "\n",
            "           1       0.92      1.00      0.95       414\n",
            "           2       1.00      0.91      0.95       446\n",
            "           3       0.99      1.00      0.99       486\n",
            "           4       1.00      0.99      0.99       450\n",
            "\n",
            "    accuracy                           0.97      1796\n",
            "   macro avg       0.97      0.97      0.97      1796\n",
            "weighted avg       0.98      0.97      0.97      1796\n",
            "\n",
            "Accuracy :  0.9743875278396437\n",
            "Precision :  0.9761268211890535\n",
            "F1 Squared :  0.9743591679353716\n",
            "AUC :  0.9977003677050651\n",
            "Recall :  0.9743875278396437\n"
          ]
        }
      ]
    },
    {
      "cell_type": "code",
      "source": [
        "#plot roc curve\n",
        "fpr = {}\n",
        "tpr = {}\n",
        "roc_auc = {}\n",
        "\n",
        "plt.figure(figsize=(8, 6))\n",
        "for i in np.unique(y):\n",
        "    fpr[i], tpr[i], _ = roc_curve(y_test == i, y_prob[:, i-1])\n",
        "    plt.plot(fpr[i], tpr[i], label=f'Class {i} (AUC = {roc_auc_score(y_test == i, y_prob[:, i-1]):.2f})')\n",
        "\n",
        "plt.plot([0, 1], [0, 1], 'k--')\n",
        "plt.xlabel(\"False Positive Rate\")\n",
        "plt.ylabel(\"True Positive Rate\")\n",
        "plt.title(\"ROC Curve\")\n",
        "plt.legend()\n",
        "plt.show()"
      ],
      "metadata": {
        "colab": {
          "base_uri": "https://localhost:8080/",
          "height": 564
        },
        "id": "5uqgo3F75KmT",
        "outputId": "cb2bf5cc-da14-4c53-939e-83da70f76ee8"
      },
      "execution_count": 11,
      "outputs": [
        {
          "output_type": "display_data",
          "data": {
            "text/plain": [
              "<Figure size 800x600 with 1 Axes>"
            ],
            "image/png": "[encoded data removed]"
          },
          "metadata": {}
        }
      ]
    },
    {
      "cell_type": "markdown",
      "source": [
       "## **📌 Penjelasan Persamaan Matematika dalam Evaluasi Model**\n",
        "\n",
        "Dalam evaluasi model *machine learning*, beberapa metrik digunakan untuk menilai performa model. Berikut adalah penjelasan masing-masing metrik dan persamaan matematikanya:\n",
        "\n",
        "---\n",
        "\n",
        "### **1. Akurasi (Accuracy)**\n",
        "Akurasi mengukur seberapa banyak prediksi yang benar dibandingkan dengan keseluruhan data.\n",
        "\n",
        "$$\\text{Accuracy} = \\frac{TP + TN}{TP + TN + FP + FN}$$\n",
        "\n",
        "- **TP** (*True Positive*): Prediksi positif yang benar  \n",
        "- **TN** (*True Negative*): Prediksi negatif yang benar  \n",
        "- **FP** (*False Positive*): Prediksi positif yang salah (*kesalahan tipe I*)  \n",
        "- **FN** (*False Negative*): Prediksi negatif yang salah (*kesalahan tipe II*)  \n",
        "\n",
        "> **Interpretasi:** Semakin tinggi akurasi, semakin baik model dalam mengklasifikasikan data secara keseluruhan.\n",
        "\n",
        "---\n",
        "\n",
        "### **2. Presisi (Precision)**\n",
        "Presisi mengukur seberapa banyak prediksi positif yang benar dibandingkan dengan seluruh prediksi positif.\n",
        "\n",
        "$$\\text{Precision} = \\frac{TP}{TP + FP}$$\n",
        "\n",
        "> **Interpretasi:**  \n",
        "- Nilai presisi tinggi menunjukkan bahwa model jarang memberikan prediksi positif yang salah (*false positive*).  \n",
        "- Cocok untuk kasus di mana kesalahan *false positive* harus diminimalkan (misalnya, diagnosis penyakit serius).\n",
        "\n",
        "---\n",
        "\n",
        "### **3. Recall (Sensitivity / True Positive Rate)**\n",
        "Recall mengukur seberapa banyak kasus positif yang benar-benar terdeteksi.\n",
        "\n",
        "$$\\text{Recall} = \\frac{TP}{TP + FN}$$\n",
        "\n",
        "> **Interpretasi:**  \n",
        "- Nilai recall tinggi berarti model mampu menangkap banyak kasus positif.  \n",
        "- Cocok untuk kasus di mana kesalahan *false negative* harus diminimalkan (misalnya, pendeteksian kanker dalam tes medis).\n",
        "\n",
        "---\n",
        "\n",
        "### **4. F1 Score**\n",
        "F1 Score adalah rata-rata harmonik dari *Precision* dan *Recall*. Digunakan untuk menyeimbangkan keduanya, terutama jika dataset tidak seimbang.\n",
        "\n",
        "$$\\text{F1} = 2 \\times \\frac{\\text{Precision} \\times \\text{Recall}}{\\text{Precision} + \\text{Recall}}$$\n",
        "\n",
        "> **Interpretasi:**  \n",
        "- Nilai **F1 Score** tinggi berarti model memiliki keseimbangan antara presisi dan recall.  \n",
        "- Berguna dalam kasus di mana dataset memiliki distribusi kelas yang tidak seimbang.\n",
        "\n",
        "---\n",
        "\n",
        "### **5. Area Under Curve (AUC) & Receiver Operating Characteristic (ROC)**\n",
        "AUC adalah ukuran seberapa baik model dapat membedakan antara kelas positif dan negatif.  \n",
        "ROC Curve adalah grafik yang menunjukkan hubungan antara **True Positive Rate (TPR)** dan **False Positive Rate (FPR)**.\n",
        "\n",
        "**Persamaan untuk False Positive Rate (FPR):**\n",
        "$$\\text{FPR} = \\frac{FP}{FP + TN}$$\n",
        "\n",
        "**Persamaan untuk True Positive Rate (TPR):**\n",
        "$$\\text{TPR} = \\frac{TP}{TP + FN}$$\n",
        "\n",
        "> **Interpretasi:**  \n",
        "- Jika **AUC = 1**, model sempurna dalam membedakan kelas positif dan negatif.  \n",
        "- Jika **AUC = 0.5**, model tidak lebih baik dari tebakan acak.  \n",
        "- Jika **AUC < 0.5**, model lebih buruk dari tebakan acak (perlu diperbaiki).  \n"
      ],
      "metadata": {
        "id": "tK2jsBol7Ck4"
      }
    }
  ]
}
