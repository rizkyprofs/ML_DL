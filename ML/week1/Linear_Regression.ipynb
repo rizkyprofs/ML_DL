{
  "cells": [
    {
      "cell_type": "markdown",
      "metadata": {
        "id": "view-in-github",
        "colab_type": "text"
      },
      "source": [
        "<a href=\"https://colab.research.google.com/github/rizkyprofs/ML_DL/blob/main/Linear_Regression.ipynb\" target=\"_parent\"><img src=\"https://colab.research.google.com/assets/colab-badge.svg\" alt=\"Open In Colab\"/></a>"
      ]
    },
    {
      "cell_type": "code",
      "execution_count": null,
      "id": "507ce02f",
      "metadata": {
        "id": "507ce02f"
      },
      "outputs": [],
      "source": [
        "\n",
        "# Import Library\n",
        "import pandas as pd\n",
        "import numpy as np\n",
        "import matplotlib.pyplot as plt\n",
        "import seaborn as sns\n",
        "from sklearn.model_selection import train_test_split\n",
        "from sklearn.linear_model import LinearRegression\n",
        "from sklearn.metrics import mean_squared_error, r2_score\n",
        "\n",
        "# Load dataset\n",
        "file_path = \"Automobile.csv\"  # Sesuaikan dengan lokasi file Anda\n",
        "df = pd.read_csv(file_path)\n",
        "\n",
        "# Menampilkan beberapa data awal\n",
        "df.head()\n",
        ""
      ]
    },
    {
      "cell_type": "code",
      "execution_count": null,
      "id": "1e40e3f6",
      "metadata": {
        "id": "1e40e3f6"
      },
      "outputs": [],
      "source": [
        "\n",
        "# Membersihkan dataset\n",
        "df = df.dropna(subset=['symboling'])  # Menghapus baris dengan nilai symboling yang hilang\n",
        "df['symboling'] = df['symboling'].astype(int)  # Mengonversi ke integer\n",
        "\n",
        "# Memilih fitur numerik untuk prediksi\n",
        "features = ['highway-mpg', 'city-mpg', 'horsepower', 'engine-size', 'compression-ratio', 'wheel-base']\n",
        "X = df[features]\n",
        "y = df['symboling']\n",
        "\n",
        "# Mengisi nilai yang hilang dengan median\n",
        "X = X.apply(pd.to_numeric, errors='coerce')  # Mengonversi ke numerik\n",
        "X = X.fillna(X.median())\n",
        "\n",
        "# Membagi dataset menjadi training dan testing\n",
        "X_train, X_test, y_train, y_test = train_test_split(X, y, test_size=0.2, random_state=42)\n",
        ""
      ]
    },
    {
      "cell_type": "code",
      "execution_count": null,
      "id": "9e5547c4",
      "metadata": {
        "id": "9e5547c4"
      },
      "outputs": [],
      "source": [
        "\n",
        "# Membuat model regresi linear\n",
        "model = LinearRegression()\n",
        "model.fit(X_train, y_train)\n",
        "\n",
        "# Memprediksi nilai\n",
        "y_pred = model.predict(X_test)\n",
        ""
      ]
    },
    {
      "cell_type": "code",
      "execution_count": null,
      "id": "e1c19893",
      "metadata": {
        "id": "e1c19893"
      },
      "outputs": [],
      "source": [
        "\n",
        "# Evaluasi model\n",
        "mse = mean_squared_error(y_test, y_pred)\n",
        "rmse = np.sqrt(mse)\n",
        "r2 = r2_score(y_test, y_pred)\n",
        "\n",
        "print(f\"Mean Squared Error (MSE): {mse:.4f}\")\n",
        "print(f\"Root Mean Squared Error (RMSE): {rmse:.4f}\")\n",
        "print(f\"R-squared: {r2:.4f}\")\n",
        ""
      ]
    }
  ],
  "metadata": {
    "colab": {
      "provenance": [],
      "include_colab_link": true
    }
  },
  "nbformat": 4,
  "nbformat_minor": 5
}
