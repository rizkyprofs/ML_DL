{
  "nbformat": 4,
  "nbformat_minor": 0,
  "metadata": {
    "colab": {
      "provenance": [],
      "include_colab_link": true
    },
    "kernelspec": {
      "name": "python3",
      "display_name": "Python 3"
    },
    "language_info": {
      "name": "python"
    }
  },
  "cells": [
    {
      "cell_type": "markdown",
      "metadata": {
        "id": "view-in-github",
        "colab_type": "text"
      },
      "source": [
        "<a href=\"https://colab.research.google.com/github/rizkyprofs/ML_DL/blob/main/MLWeek7_regresiInfrared.ipynb\" target=\"_parent\"><img src=\"https://colab.research.google.com/assets/colab-badge.svg\" alt=\"Open In Colab\"/></a>"
      ]
    },
    {
      "cell_type": "code",
      "execution_count": null,
      "metadata": {
        "colab": {
          "base_uri": "https://localhost:8080/"
        },
        "id": "D3uqIlJjl4zs",
        "outputId": "38fbc3d5-1d44-4662-8a3d-268a2ce3fb38"
      },
      "outputs": [
        {
          "output_type": "stream",
          "name": "stdout",
          "text": [
            "Data Awal:\n",
            "   Gender    Age                  Ethnicity  T_atm  Humidity  Distance  \\\n",
            "0    Male  41-50                      White   24.0      28.0       0.8   \n",
            "1  Female  31-40  Black or African-American   24.0      26.0       0.8   \n",
            "2  Female  21-30                      White   24.0      26.0       0.8   \n",
            "3  Female  21-30  Black or African-American   24.0      27.0       0.8   \n",
            "4    Male  18-20                      White   24.0      27.0       0.8   \n",
            "\n",
            "   T_offset1  Max1R13_1  Max1L13_1  aveAllR13_1  ...  T_FHRC1  T_FHLC1  \\\n",
            "0     0.7025    35.0300    35.3775      34.4000  ...  33.4775  33.3725   \n",
            "1     0.7800    34.5500    34.5200      33.9300  ...  34.0550  33.6775   \n",
            "2     0.8625    35.6525    35.5175      34.2775  ...  34.8275  34.6475   \n",
            "3     0.9300    35.2225    35.6125      34.3850  ...  34.4225  34.6550   \n",
            "4     0.8950    35.5450    35.6650      34.9100  ...  35.1600  34.3975   \n",
            "\n",
            "   T_FHBC1  T_FHTC1  T_FH_Max1  T_FHC_Max1   T_Max1    T_OR1  T_OR_Max1  \\\n",
            "0  33.4925  33.0025    34.5300     34.0075  35.6925  35.6350    35.6525   \n",
            "1  33.9700  34.0025    34.6825     34.6600  35.1750  35.0925    35.1075   \n",
            "2  34.8200  34.6700    35.3450     35.2225  35.9125  35.8600    35.8850   \n",
            "3  34.3025  34.9175    35.6025     35.3150  35.7200  34.9650    34.9825   \n",
            "4  34.6700  33.8275    35.4175     35.3725  35.8950  35.5875    35.6175   \n",
            "\n",
            "   aveOralM  \n",
            "0     36.59  \n",
            "1     37.19  \n",
            "2     37.34  \n",
            "3     37.09  \n",
            "4     37.04  \n",
            "\n",
            "[5 rows x 34 columns]\n",
            "\n",
            "Data Setelah Menghapus Kolom yang Tidak Relevan:\n",
            "   T_atm  Humidity  Distance  T_offset1  Max1R13_1  Max1L13_1  aveAllR13_1  \\\n",
            "0   24.0      28.0       0.8     0.7025    35.0300    35.3775      34.4000   \n",
            "1   24.0      26.0       0.8     0.7800    34.5500    34.5200      33.9300   \n",
            "2   24.0      26.0       0.8     0.8625    35.6525    35.5175      34.2775   \n",
            "3   24.0      27.0       0.8     0.9300    35.2225    35.6125      34.3850   \n",
            "4   24.0      27.0       0.8     0.8950    35.5450    35.6650      34.9100   \n",
            "\n",
            "   aveAllL13_1    T_RC1  T_RC_Dry1  ...  T_FHRC1  T_FHLC1  T_FHBC1  T_FHTC1  \\\n",
            "0      34.9175  34.9850    34.9850  ...  33.4775  33.3725  33.4925  33.0025   \n",
            "1      34.2250  34.7100    34.6325  ...  34.0550  33.6775  33.9700  34.0025   \n",
            "2      34.8000  35.6850    35.6675  ...  34.8275  34.6475  34.8200  34.6700   \n",
            "3      35.2475  35.2075    35.2000  ...  34.4225  34.6550  34.3025  34.9175   \n",
            "4      35.3675  35.6025    35.4750  ...  35.1600  34.3975  34.6700  33.8275   \n",
            "\n",
            "   T_FH_Max1  T_FHC_Max1   T_Max1    T_OR1  T_OR_Max1  aveOralM  \n",
            "0    34.5300     34.0075  35.6925  35.6350    35.6525     36.59  \n",
            "1    34.6825     34.6600  35.1750  35.0925    35.1075     37.19  \n",
            "2    35.3450     35.2225  35.9125  35.8600    35.8850     37.34  \n",
            "3    35.6025     35.3150  35.7200  34.9650    34.9825     37.09  \n",
            "4    35.4175     35.3725  35.8950  35.5875    35.6175     37.04  \n",
            "\n",
            "[5 rows x 31 columns]\n",
            "\n",
            "Jumlah Missing Values per Kolom Setelah Pengisian:\n",
            "T_atm          0\n",
            "Humidity       0\n",
            "Distance       0\n",
            "T_offset1      0\n",
            "Max1R13_1      0\n",
            "Max1L13_1      0\n",
            "aveAllR13_1    0\n",
            "aveAllL13_1    0\n",
            "T_RC1          0\n",
            "T_RC_Dry1      0\n",
            "T_RC_Wet1      0\n",
            "T_RC_Max1      0\n",
            "T_LC1          0\n",
            "T_LC_Dry1      0\n",
            "T_LC_Wet1      0\n",
            "T_LC_Max1      0\n",
            "RCC1           0\n",
            "LCC1           0\n",
            "canthiMax1     0\n",
            "canthi4Max1    0\n",
            "T_FHCC1        0\n",
            "T_FHRC1        0\n",
            "T_FHLC1        0\n",
            "T_FHBC1        0\n",
            "T_FHTC1        0\n",
            "T_FH_Max1      0\n",
            "T_FHC_Max1     0\n",
            "T_Max1         0\n",
            "T_OR1          0\n",
            "T_OR_Max1      0\n",
            "aveOralM       0\n",
            "dtype: int64\n"
          ]
        }
      ],
      "source": [
        "# Tahap 1: Memuat dan Memproses Dataset\n",
        "import pandas as pd\n",
        "\n",
        "# Membaca dataset dari URL\n",
        "url = \"https://raw.githubusercontent.com/farrelrassya/teachingMLDL/refs/heads/main/02.%20Deep%20Learning/Dataset/Infrared.csv\"\n",
        "data = pd.read_csv(url)\n",
        "\n",
        "# Menampilkan 5 baris pertama dari dataset\n",
        "print(\"Data Awal:\")\n",
        "print(data.head())\n",
        "\n",
        "# Menghapus kolom yang tidak relevan atau tidak dapat diproses (kolom dengan tipe selain numerik)\n",
        "data_cleaned = data.select_dtypes(include=['float64', 'int64'])\n",
        "\n",
        "# Menampilkan data setelah kolom yang tidak relevan dihapus\n",
        "print(\"\\nData Setelah Menghapus Kolom yang Tidak Relevan:\")\n",
        "print(data_cleaned.head())\n",
        "\n",
        "# Mengisi missing values pada kolom numerik dengan rata-rata\n",
        "data_cleaned = data_cleaned.fillna(data_cleaned.mean())\n",
        "\n",
        "# Memeriksa kembali apakah masih ada missing values\n",
        "print(\"\\nJumlah Missing Values per Kolom Setelah Pengisian:\")\n",
        "print(data_cleaned.isnull().sum())"
      ]
    },
    {
      "cell_type": "code",
      "source": [
        "# Tahap 2: Membagi Data menjadi Fitur dan Target\n",
        "from sklearn.model_selection import train_test_split\n",
        "\n",
        "# Membagi data menjadi fitur (X) dan target (y)\n",
        "# Menggunakan seluruh data numerik sebagai fitur, dan kolom terakhir sebagai target (y)\n",
        "X = data_cleaned.drop(data_cleaned.columns[-1], axis=1)  # Semua kolom kecuali kolom terakhir\n",
        "y = data_cleaned.iloc[:, -1]  # Kolom terakhir sebagai target\n",
        "\n",
        "# Membagi data menjadi training dan testing\n",
        "X_train, X_test, y_train, y_test = train_test_split(X, y, test_size=0.2, random_state=42)\n",
        "\n",
        "# Menampilkan bentuk data training dan testing\n",
        "print(f\"\\nBentuk data training (X_train, y_train): {X_train.shape}\")\n",
        "print(f\"Bentuk data testing (X_test, y_test): {X_test.shape}\")"
      ],
      "metadata": {
        "colab": {
          "base_uri": "https://localhost:8080/"
        },
        "id": "9sm1_vxXmggt",
        "outputId": "4b330904-886e-4d04-c3cf-f294580eab5b"
      },
      "execution_count": null,
      "outputs": [
        {
          "output_type": "stream",
          "name": "stdout",
          "text": [
            "\n",
            "Bentuk data training (X_train, y_train): (816, 30)\n",
            "Bentuk data testing (X_test, y_test): (204, 30)\n"
          ]
        }
      ]
    },
    {
      "cell_type": "code",
      "source": [
        "# Tahap 3: Membangun Model Bagging (Random Forest)\n",
        "from sklearn.ensemble import RandomForestRegressor\n",
        "from sklearn.metrics import mean_squared_error, r2_score\n",
        "import numpy as np\n",
        "\n",
        "# Membuat Model Bagging (RandomForest)\n",
        "bagging_model = RandomForestRegressor(n_estimators=100, random_state=42)\n",
        "\n",
        "# Melatih model dengan data training\n",
        "bagging_model.fit(X_train, y_train)\n",
        "\n",
        "# Memprediksi data testing\n",
        "y_pred_bagging = bagging_model.predict(X_test)\n",
        "\n",
        "# Evaluasi Model Bagging\n",
        "mse_bagging = mean_squared_error(y_test, y_pred_bagging)\n",
        "rmse_bagging = np.sqrt(mse_bagging)\n",
        "r2_bagging = r2_score(y_test, y_pred_bagging)\n",
        "\n",
        "# Menampilkan hasil evaluasi\n",
        "print(f\"\\nModel Bagging (Random Forest) - MSE: {mse_bagging}, RMSE: {rmse_bagging}, R²: {r2_bagging}\")"
      ],
      "metadata": {
        "colab": {
          "base_uri": "https://localhost:8080/"
        },
        "id": "oazuXrvHnqn2",
        "outputId": "a326ae00-505a-4d04-9c1c-b50503e6f2a6"
      },
      "execution_count": null,
      "outputs": [
        {
          "output_type": "stream",
          "name": "stdout",
          "text": [
            "\n",
            "Model Bagging (Random Forest) - MSE: 0.058097827205881934, RMSE: 0.2410349086872728, R²: 0.7240953699403316\n"
          ]
        }
      ]
    },
    {
      "cell_type": "code",
      "source": [
        "# Tahap 4: Membangun Model Boosting (Gradient Boosting)\n",
        "from sklearn.ensemble import GradientBoostingRegressor\n",
        "\n",
        "# Membuat Model Boosting (GradientBoosting)\n",
        "boosting_model = GradientBoostingRegressor(n_estimators=100, random_state=42)\n",
        "\n",
        "# Melatih model dengan data training\n",
        "boosting_model.fit(X_train, y_train)\n",
        "\n",
        "# Memprediksi data testing\n",
        "y_pred_boosting = boosting_model.predict(X_test)\n",
        "\n",
        "# Evaluasi Model Boosting\n",
        "mse_boosting = mean_squared_error(y_test, y_pred_boosting)\n",
        "rmse_boosting = np.sqrt(mse_boosting)\n",
        "r2_boosting = r2_score(y_test, y_pred_boosting)\n",
        "\n",
        "# Menampilkan hasil evaluasi\n",
        "print(f\"\\nModel Boosting (Gradient Boosting) - MSE: {mse_boosting}, RMSE: {rmse_boosting}, R²: {r2_boosting}\")"
      ],
      "metadata": {
        "colab": {
          "base_uri": "https://localhost:8080/"
        },
        "id": "HUbnKb9MonPd",
        "outputId": "9ab0d336-44b3-469d-ce04-decc5c56839b"
      },
      "execution_count": null,
      "outputs": [
        {
          "output_type": "stream",
          "name": "stdout",
          "text": [
            "\n",
            "Model Boosting (Gradient Boosting) - MSE: 0.05220963611003843, RMSE: 0.22849428025672422, R²: 0.7520581916868713\n"
          ]
        }
      ]
    },
    {
      "cell_type": "code",
      "source": [
        "# Tahap 5: Visualisasi Hasil\n",
        "import matplotlib.pyplot as plt  # Pastikan library ini diimpor\n",
        "\n",
        "# Membuat plot perbandingan MSE, RMSE, dan R²\n",
        "labels = ['Bagging', 'Boosting']\n",
        "mse_values = [mse_bagging, mse_boosting]\n",
        "rmse_values = [rmse_bagging, rmse_boosting]\n",
        "r2_values = [r2_bagging, r2_boosting]\n",
        "\n",
        "# Plot MSE\n",
        "plt.figure(figsize=(12, 4))\n",
        "plt.subplot(131)\n",
        "plt.bar(labels, mse_values, color=['blue', 'green'])\n",
        "plt.title('Mean Squared Error (MSE)')\n",
        "plt.ylabel('MSE')\n",
        "\n",
        "# Plot RMSE\n",
        "plt.subplot(132)\n",
        "plt.bar(labels, rmse_values, color=['blue', 'green'])\n",
        "plt.title('Root Mean Squared Error (RMSE)')\n",
        "plt.ylabel('RMSE')\n",
        "\n",
        "# Plot R²\n",
        "plt.subplot(133)\n",
        "plt.bar(labels, r2_values, color=['blue', 'green'])\n",
        "plt.title('R²')\n",
        "plt.ylabel('R²')\n",
        "\n",
        "# Tampilkan plot\n",
        "plt.tight_layout()\n",
        "plt.show()"
      ],
      "metadata": {
        "colab": {
          "base_uri": "https://localhost:8080/",
          "height": 407
        },
        "id": "1pwFNde3oqb6",
        "outputId": "cc3a2ca8-1259-4451-ce57-35f0306aa3a6"
      },
      "execution_count": null,
      "outputs": [
        {
          "output_type": "display_data",
          "data": {
            "text/plain": [
              "<Figure size 1200x400 with 3 Axes>"
            ],
            "image/png": "[encoded data removed]"
          },
          "metadata": {}
        }
      ]
    },
    {
      "cell_type": "markdown",
      "source": [
        "## Penjelasan Matematis\n",
        "\n",
        "### 1. **Mean Squared Error (MSE)**\n",
        "\n",
        "Mean Squared Error (MSE) adalah metrik yang digunakan untuk mengukur rata-rata kuadrat dari perbedaan antara nilai yang diprediksi dan nilai yang sebenarnya. MSE dihitung dengan rumus berikut:\n",
        "\n",
        "MSE = (1/n) * Σ (y_i - ŷ_i)²\n",
        "\n",
        "di mana:\n",
        "- `y_i` adalah nilai yang sebenarnya (nilai target),\n",
        "- `ŷ_i` adalah nilai yang diprediksi oleh model,\n",
        "- `n` adalah jumlah data.\n",
        "\n",
        "### 2. **Root Mean Squared Error (RMSE)**\n",
        "\n",
        "Root Mean Squared Error (RMSE) adalah akar kuadrat dari MSE. RMSE memberikan penilaian seberapa baik model memprediksi data dengan unit yang sama dengan data asli. RMSE dihitung dengan rumus berikut:\n",
        "\n",
        "RMSE = √MSE\n",
        "\n",
        "Metrik ini memberikan informasi yang lebih mudah dipahami karena berada dalam satuan yang sama dengan data aslinya.\n",
        "\n",
        "### 3. **R-Squared (R²)**\n",
        "\n",
        "R-Squared (R²) adalah metrik yang digunakan untuk mengukur seberapa baik model dapat menjelaskan variasi dalam data. Nilai R² berkisar antara 0 dan 1, di mana:\n",
        "- Nilai 1 berarti model sempurna (prediksi identik dengan nilai sebenarnya),\n",
        "- Nilai 0 berarti model tidak dapat menjelaskan variabilitas data.\n",
        "\n",
        "R² dihitung dengan rumus berikut:\n",
        "\n",
        "R² = 1 - (Σ (y_i - ŷ_i)²) / (Σ (y_i - ȳ)²)\n",
        "\n",
        "di mana:\n",
        "- `y_i` adalah nilai yang sebenarnya,\n",
        "- `ŷ_i` adalah nilai yang diprediksi oleh model,\n",
        "- `ȳ` adalah rata-rata nilai target,\n",
        "- `n` adalah jumlah data.\n",
        "\n",
        "Jika R² mendekati 1, maka model sangat baik dalam memprediksi data. Jika R² mendekati 0, maka model tidak memberikan prediksi yang baik.\n"
      ],
      "metadata": {
        "id": "sWEzqol9pCqe"
      }
    },
    {
      "cell_type": "code",
      "source": [],
      "metadata": {
        "id": "eXjfBCHLpuk8"
      },
      "execution_count": null,
      "outputs": []
    }
  ]
}